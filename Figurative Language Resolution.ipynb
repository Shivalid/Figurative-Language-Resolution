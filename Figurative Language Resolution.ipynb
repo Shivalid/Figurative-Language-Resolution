{
 "cells": [
  {
   "cell_type": "markdown",
   "id": "d437a30a",
   "metadata": {},
   "source": [
    "### Fugurative Language Resolution: Metaphor Detection"
   ]
  },
  {
   "cell_type": "markdown",
   "id": "a41a83cf",
   "metadata": {},
   "source": [
    "##### Experiment 1: How important are conceptual semantic features such as abstractness scores in metaphor identification?"
   ]
  },
  {
   "cell_type": "code",
   "execution_count": 1,
   "id": "2e8efe26",
   "metadata": {},
   "outputs": [],
   "source": [
    "import numpy as np\n",
    "import pandas as pd\n",
    "\n",
    "import fasttext\n",
    "import fasttext.util"
   ]
  },
  {
   "cell_type": "code",
   "execution_count": 5,
   "id": "175d037e",
   "metadata": {},
   "outputs": [],
   "source": [
    "import os\n",
    "os.getcwd()\n",
    "os.chdir('/export/home/sdubey')"
   ]
  },
  {
   "cell_type": "code",
   "execution_count": 6,
   "id": "853936f3",
   "metadata": {},
   "outputs": [],
   "source": [
    "#Load training data\n",
    "train_data = pd.read_csv('./FLR/confident_german_train.csv', sep='\\t')\n",
    "#Load test data\n",
    "test_data = pd.read_csv('./FLR/confident_german_test.csv', sep='\\t')"
   ]
  },
  {
   "cell_type": "code",
   "execution_count": 4,
   "id": "ce5faf6a",
   "metadata": {},
   "outputs": [
    {
     "data": {
      "text/html": [
       "<div>\n",
       "<style scoped>\n",
       "    .dataframe tbody tr th:only-of-type {\n",
       "        vertical-align: middle;\n",
       "    }\n",
       "\n",
       "    .dataframe tbody tr th {\n",
       "        vertical-align: top;\n",
       "    }\n",
       "\n",
       "    .dataframe thead th {\n",
       "        text-align: right;\n",
       "    }\n",
       "</style>\n",
       "<table border=\"1\" class=\"dataframe\">\n",
       "  <thead>\n",
       "    <tr style=\"text-align: right;\">\n",
       "      <th></th>\n",
       "      <th>an_phrase</th>\n",
       "      <th>an_inflection</th>\n",
       "      <th>en</th>\n",
       "      <th>label</th>\n",
       "      <th>percentage_label</th>\n",
       "      <th>keyword</th>\n",
       "      <th>org_label</th>\n",
       "      <th>context</th>\n",
       "      <th>source</th>\n",
       "      <th>abstractness_noun</th>\n",
       "      <th>abstractness</th>\n",
       "      <th>abstractness_phrase</th>\n",
       "    </tr>\n",
       "  </thead>\n",
       "  <tbody>\n",
       "    <tr>\n",
       "      <th>0</th>\n",
       "      <td>relativ Chaos</td>\n",
       "      <td>relatives Chaos</td>\n",
       "      <td>relative chaos</td>\n",
       "      <td>1</td>\n",
       "      <td>0.8</td>\n",
       "      <td>relativ</td>\n",
       "      <td>lmmmm</td>\n",
       "      <td>die astrologix -Server müssen (an 1. Juni 13, ...</td>\n",
       "      <td>astrologix.de,http://www.astrologix.de/</td>\n",
       "      <td>3.559</td>\n",
       "      <td>2.975</td>\n",
       "      <td>3.267</td>\n",
       "    </tr>\n",
       "    <tr>\n",
       "      <th>1</th>\n",
       "      <td>nötig Änderung</td>\n",
       "      <td>nötige Änderung</td>\n",
       "      <td>necessary change</td>\n",
       "      <td>0</td>\n",
       "      <td>0.0</td>\n",
       "      <td>nötig</td>\n",
       "      <td>lllll</td>\n",
       "      <td>mit eine paar wenig Klick setzen die Shopsoftw...</td>\n",
       "      <td>gambio.de,http://www.gambio.de/Referenzen.html</td>\n",
       "      <td>3.821</td>\n",
       "      <td>2.474</td>\n",
       "      <td>3.147</td>\n",
       "    </tr>\n",
       "    <tr>\n",
       "      <th>2</th>\n",
       "      <td>traditionell Jesuitenfarbe</td>\n",
       "      <td>traditionelle Jesuitenfarbe</td>\n",
       "      <td>traditional Jesuit colour</td>\n",
       "      <td>0</td>\n",
       "      <td>0.0</td>\n",
       "      <td>traditionell</td>\n",
       "      <td>lllll</td>\n",
       "      <td>die optisch Eindruck Schwarz und Silber sollen...</td>\n",
       "      <td>jesuitenkirche-innsbruck.at,http://jesuitenkir...</td>\n",
       "      <td>4.289</td>\n",
       "      <td>3.607</td>\n",
       "      <td>3.948</td>\n",
       "    </tr>\n",
       "    <tr>\n",
       "      <th>3</th>\n",
       "      <td>lokal Marktführer</td>\n",
       "      <td>lokaler Marktführer</td>\n",
       "      <td>local market leader</td>\n",
       "      <td>0</td>\n",
       "      <td>0.0</td>\n",
       "      <td>lokal</td>\n",
       "      <td>lllll</td>\n",
       "      <td>die Gärtnerei Berg sein die lokal Marktführer ...</td>\n",
       "      <td>bergbinzen.de,http://www.bergbinzen.de/</td>\n",
       "      <td>4.382</td>\n",
       "      <td>3.799</td>\n",
       "      <td>4.090</td>\n",
       "    </tr>\n",
       "    <tr>\n",
       "      <th>4</th>\n",
       "      <td>sozial Umfeld</td>\n",
       "      <td>soziales Umfeld</td>\n",
       "      <td>social environment</td>\n",
       "      <td>0</td>\n",
       "      <td>0.2</td>\n",
       "      <td>sozial</td>\n",
       "      <td>llmll</td>\n",
       "      <td>Stigma, Unwissen, Aberglaube, Intoleranz sie g...</td>\n",
       "      <td>unicef.de,http://www.unicef.de/</td>\n",
       "      <td>3.474</td>\n",
       "      <td>2.871</td>\n",
       "      <td>3.173</td>\n",
       "    </tr>\n",
       "  </tbody>\n",
       "</table>\n",
       "</div>"
      ],
      "text/plain": [
       "                    an_phrase                an_inflection  \\\n",
       "0               relativ Chaos              relatives Chaos   \n",
       "1              nötig Änderung              nötige Änderung   \n",
       "2  traditionell Jesuitenfarbe  traditionelle Jesuitenfarbe   \n",
       "3           lokal Marktführer          lokaler Marktführer   \n",
       "4               sozial Umfeld              soziales Umfeld   \n",
       "\n",
       "                          en  label  percentage_label       keyword org_label  \\\n",
       "0             relative chaos      1               0.8       relativ     lmmmm   \n",
       "1           necessary change      0               0.0         nötig     lllll   \n",
       "2  traditional Jesuit colour      0               0.0  traditionell     lllll   \n",
       "3        local market leader      0               0.0         lokal     lllll   \n",
       "4         social environment      0               0.2        sozial     llmll   \n",
       "\n",
       "                                             context  \\\n",
       "0  die astrologix -Server müssen (an 1. Juni 13, ...   \n",
       "1  mit eine paar wenig Klick setzen die Shopsoftw...   \n",
       "2  die optisch Eindruck Schwarz und Silber sollen...   \n",
       "3  die Gärtnerei Berg sein die lokal Marktführer ...   \n",
       "4  Stigma, Unwissen, Aberglaube, Intoleranz sie g...   \n",
       "\n",
       "                                              source  abstractness_noun  \\\n",
       "0            astrologix.de,http://www.astrologix.de/              3.559   \n",
       "1     gambio.de,http://www.gambio.de/Referenzen.html              3.821   \n",
       "2  jesuitenkirche-innsbruck.at,http://jesuitenkir...              4.289   \n",
       "3            bergbinzen.de,http://www.bergbinzen.de/              4.382   \n",
       "4                    unicef.de,http://www.unicef.de/              3.474   \n",
       "\n",
       "   abstractness  abstractness_phrase  \n",
       "0         2.975                3.267  \n",
       "1         2.474                3.147  \n",
       "2         3.607                3.948  \n",
       "3         3.799                4.090  \n",
       "4         2.871                3.173  "
      ]
     },
     "execution_count": 4,
     "metadata": {},
     "output_type": "execute_result"
    }
   ],
   "source": [
    "#Three abstractness scores are provided corresponding to each German adjective-noun phrase or metaphor\n",
    "train_data.head(5)"
   ]
  },
  {
   "cell_type": "markdown",
   "id": "46b26b09",
   "metadata": {},
   "source": [
    "##### Data Preparation"
   ]
  },
  {
   "cell_type": "code",
   "execution_count": 7,
   "id": "e9632230",
   "metadata": {},
   "outputs": [],
   "source": [
    "#conceptual semantic features\n",
    "features_train = train_data[['abstractness_noun', 'abstractness', 'abstractness_phrase']]\n",
    "features_test = test_data[['abstractness_noun', 'abstractness', 'abstractness_phrase']]\n",
    "#labels: 1- Metaphor  0- Literal\n",
    "labels_train = train_data['label']\n",
    "labels_test = test_data['label']"
   ]
  },
  {
   "cell_type": "markdown",
   "id": "d0b8dba1",
   "metadata": {},
   "source": [
    "##### Classification using Random Forest"
   ]
  },
  {
   "cell_type": "code",
   "execution_count": 8,
   "id": "b201379b",
   "metadata": {},
   "outputs": [],
   "source": [
    "from sklearn.ensemble import RandomForestClassifier\n",
    "clf = RandomForestClassifier(n_estimators=300, random_state=0)"
   ]
  },
  {
   "cell_type": "code",
   "execution_count": 9,
   "id": "34edab89",
   "metadata": {},
   "outputs": [
    {
     "data": {
      "text/plain": [
       "RandomForestClassifier(n_estimators=300, random_state=0)"
      ]
     },
     "execution_count": 9,
     "metadata": {},
     "output_type": "execute_result"
    }
   ],
   "source": [
    "#Training\n",
    "clf.fit(features_train, labels_train) "
   ]
  },
  {
   "cell_type": "code",
   "execution_count": 10,
   "id": "9726f182",
   "metadata": {},
   "outputs": [
    {
     "data": {
      "text/plain": [
       "0.7222222222222222"
      ]
     },
     "execution_count": 10,
     "metadata": {},
     "output_type": "execute_result"
    }
   ],
   "source": [
    "#Accuracy on test data\n",
    "clf.score(features_test, labels_test) "
   ]
  },
  {
   "cell_type": "code",
   "execution_count": 11,
   "id": "33dae14a",
   "metadata": {},
   "outputs": [],
   "source": [
    "labels_pred = clf.predict(features_test)"
   ]
  },
  {
   "cell_type": "code",
   "execution_count": 12,
   "id": "a43faaf5",
   "metadata": {},
   "outputs": [
    {
     "data": {
      "text/plain": [
       "0.396551724137931"
      ]
     },
     "execution_count": 12,
     "metadata": {},
     "output_type": "execute_result"
    }
   ],
   "source": [
    "#F1-score\n",
    "from sklearn import metrics\n",
    "metrics.f1_score(labels_test, labels_pred)"
   ]
  },
  {
   "cell_type": "markdown",
   "id": "515e134d",
   "metadata": {},
   "source": [
    "##### Experiment 2: How important are lexical semantic features such as word embeddings in metaphor identification?"
   ]
  },
  {
   "cell_type": "code",
   "execution_count": 13,
   "id": "d93877a5",
   "metadata": {},
   "outputs": [
    {
     "name": "stderr",
     "output_type": "stream",
     "text": [
      "Warning : `load_model` does not return WordVectorModel or SupervisedModel any more, but a `FastText` object which is very similar.\n"
     ]
    }
   ],
   "source": [
    "#load fasttext word embeddings\n",
    "ft = fasttext.load_model('cc.de.300.bin')"
   ]
  },
  {
   "cell_type": "code",
   "execution_count": 14,
   "id": "9b83fc7a",
   "metadata": {},
   "outputs": [
    {
     "data": {
      "text/plain": [
       "<fasttext.FastText._FastText at 0x7fdd4b34ac10>"
      ]
     },
     "execution_count": 14,
     "metadata": {},
     "output_type": "execute_result"
    }
   ],
   "source": [
    "#project word embeddings from 300-dimensional space into 10-dimensional space\n",
    "fasttext.util.reduce_model(ft, 10)"
   ]
  },
  {
   "cell_type": "code",
   "execution_count": 15,
   "id": "234178ed",
   "metadata": {},
   "outputs": [],
   "source": [
    "phrase_train = train_data['an_phrase']\n",
    "phrase_test = test_data['an_phrase']"
   ]
  },
  {
   "cell_type": "code",
   "execution_count": 16,
   "id": "ade25385",
   "metadata": {},
   "outputs": [],
   "source": [
    "phrase_train = phrase_train.values.tolist()\n",
    "phrase_test = phrase_test.values.tolist()"
   ]
  },
  {
   "cell_type": "code",
   "execution_count": 17,
   "id": "3fc7b74b",
   "metadata": {},
   "outputs": [],
   "source": [
    "#Store word embeddings corresponding to each metaphor phrase in German\n",
    "embeddings_train = []\n",
    "temp = np.zeros([10,2])\n",
    "for i in range(len(phrase_train)):\n",
    "        temp = np.concatenate([ft.get_word_vector(phrase_train[i].split()[0]), ft.get_word_vector(phrase_train[i].split()[1])])\n",
    "        embeddings_train.append(temp)\n",
    "        \n",
    "embeddings_test = []\n",
    "temp = np.zeros([10,2])\n",
    "for i in range(len(phrase_test)):\n",
    "        temp = np.concatenate([ft.get_word_vector(phrase_test[i].split()[0]), ft.get_word_vector(phrase_test[i].split()[1])])\n",
    "        embeddings_test.append(temp)"
   ]
  },
  {
   "cell_type": "code",
   "execution_count": 18,
   "id": "cd0d561c",
   "metadata": {},
   "outputs": [
    {
     "data": {
      "text/plain": [
       "RandomForestClassifier(n_estimators=300, random_state=0)"
      ]
     },
     "execution_count": 18,
     "metadata": {},
     "output_type": "execute_result"
    }
   ],
   "source": [
    "#Training\n",
    "clf.fit(embeddings_train, labels_train)"
   ]
  },
  {
   "cell_type": "code",
   "execution_count": 19,
   "id": "d590ee57",
   "metadata": {},
   "outputs": [
    {
     "data": {
      "text/plain": [
       "0.8253968253968254"
      ]
     },
     "execution_count": 19,
     "metadata": {},
     "output_type": "execute_result"
    }
   ],
   "source": [
    "#Accuracy on test data\n",
    "clf.score(embeddings_test, labels_test)"
   ]
  },
  {
   "cell_type": "code",
   "execution_count": 20,
   "id": "68807e18",
   "metadata": {},
   "outputs": [],
   "source": [
    "labels_pred = clf.predict(embeddings_test)"
   ]
  },
  {
   "cell_type": "code",
   "execution_count": 21,
   "id": "01ecb123",
   "metadata": {},
   "outputs": [
    {
     "data": {
      "text/plain": [
       "0.6393442622950819"
      ]
     },
     "execution_count": 21,
     "metadata": {},
     "output_type": "execute_result"
    }
   ],
   "source": [
    "#F1 score\n",
    "from sklearn import metrics\n",
    "metrics.f1_score(labels_test, labels_pred)"
   ]
  },
  {
   "cell_type": "markdown",
   "id": "7cea106f",
   "metadata": {},
   "source": [
    "##### Experiment 3: Concatenate lexical and conceptual semantic features.\n"
   ]
  },
  {
   "cell_type": "code",
   "execution_count": 23,
   "id": "f49c07f7",
   "metadata": {},
   "outputs": [],
   "source": [
    "features_train = features_train.values.tolist()\n",
    "features_test = features_test.values.tolist()"
   ]
  },
  {
   "cell_type": "code",
   "execution_count": 24,
   "id": "b1089b7a",
   "metadata": {},
   "outputs": [],
   "source": [
    "emb_abs_train = []\n",
    "for i in range(len(phrase_train)):\n",
    "        temp = np.hstack((ft.get_word_vector(phrase_train[i].split()[0]), ft.get_word_vector(phrase_train[i].split()[1])))\n",
    "        temp = np.hstack((temp, features_train[i]))\n",
    "        emb_abs_train.append(temp)"
   ]
  },
  {
   "cell_type": "code",
   "execution_count": 25,
   "id": "ff946f86",
   "metadata": {},
   "outputs": [],
   "source": [
    "emb_abs_test = []\n",
    "for i in range(len(phrase_test)):\n",
    "        temp = np.hstack((ft.get_word_vector(phrase_test[i].split()[0]), ft.get_word_vector(phrase_test[i].split()[1])))\n",
    "        temp = np.hstack((temp, features_test[i]))\n",
    "        emb_abs_test.append(temp)"
   ]
  },
  {
   "cell_type": "code",
   "execution_count": 27,
   "id": "4f13444b",
   "metadata": {},
   "outputs": [
    {
     "data": {
      "text/plain": [
       "RandomForestClassifier(n_estimators=300, random_state=0)"
      ]
     },
     "execution_count": 27,
     "metadata": {},
     "output_type": "execute_result"
    }
   ],
   "source": [
    "clf.fit(emb_abs_train, labels_train)"
   ]
  },
  {
   "cell_type": "code",
   "execution_count": 28,
   "id": "56cc3ff9",
   "metadata": {},
   "outputs": [
    {
     "data": {
      "text/plain": [
       "0.8392857142857143"
      ]
     },
     "execution_count": 28,
     "metadata": {},
     "output_type": "execute_result"
    }
   ],
   "source": [
    "clf.score(emb_abs_test, labels_test, sample_weight=None)"
   ]
  },
  {
   "cell_type": "code",
   "execution_count": 31,
   "id": "8a710070",
   "metadata": {},
   "outputs": [
    {
     "data": {
      "text/plain": [
       "0.6610878661087868"
      ]
     },
     "execution_count": 31,
     "metadata": {},
     "output_type": "execute_result"
    }
   ],
   "source": [
    "#F1-score\n",
    "labels_pred = clf.predict(emb_abs_test)\n",
    "metrics.f1_score(labels_test, labels_pred)"
   ]
  },
  {
   "cell_type": "markdown",
   "id": "5e5247e5",
   "metadata": {},
   "source": [
    "Conclusion: You can not only rely on abstractness (conceptual features) for metaphor identification, lexical features still matter."
   ]
  },
  {
   "cell_type": "markdown",
   "id": "746da89f",
   "metadata": {},
   "source": [
    "##### Experiment 4: Measuring metaphoricity from word level embeddings.\n",
    "Compare embeddings learned for individual words in order to determine whether they come from the same domain. This is done by determining similarity between the representations of the two words (adjective-noun pairs) in a phrase."
   ]
  },
  {
   "cell_type": "code",
   "execution_count": 22,
   "id": "717769dc",
   "metadata": {},
   "outputs": [
    {
     "data": {
      "text/plain": [
       "'relativ'"
      ]
     },
     "execution_count": 22,
     "metadata": {},
     "output_type": "execute_result"
    }
   ],
   "source": [
    "phrase_train[0].split()[0]"
   ]
  },
  {
   "cell_type": "code",
   "execution_count": 23,
   "id": "b140271c",
   "metadata": {},
   "outputs": [],
   "source": [
    "cosine_similarities = []\n",
    "for i in range(len(phrase_train)):\n",
    "    cosine_similarities.append(metrics.pairwise.cosine_similarity(ft.get_word_vector(phrase_train[i].split()[0]).reshape(1, -1), ft.get_word_vector(phrase_train[i].split()[1]).reshape(1, -1)))\n"
   ]
  },
  {
   "cell_type": "code",
   "execution_count": 30,
   "id": "79f1e657",
   "metadata": {},
   "outputs": [
    {
     "data": {
      "text/plain": [
       "1173"
      ]
     },
     "execution_count": 30,
     "metadata": {},
     "output_type": "execute_result"
    }
   ],
   "source": [
    "len(cosine_similarities)"
   ]
  },
  {
   "cell_type": "code",
   "execution_count": 48,
   "id": "f298913c",
   "metadata": {},
   "outputs": [
    {
     "data": {
      "text/plain": [
       "<matplotlib.collections.PathCollection at 0x7f23118d8430>"
      ]
     },
     "execution_count": 48,
     "metadata": {},
     "output_type": "execute_result"
    },
    {
     "data": {
      "image/png": "[encoded data removed]",
      "text/plain": [
       "<Figure size 432x288 with 1 Axes>"
      ]
     },
     "metadata": {
      "needs_background": "light"
     },
     "output_type": "display_data"
    }
   ],
   "source": [
    "import matplotlib.pyplot as plt\n",
    "color= ['red' if l == 0 else 'green' for l in labels_train]\n",
    "plt.scatter(range(len(cosine_similarities)), cosine_similarities, color=color)"
   ]
  },
  {
   "cell_type": "code",
   "execution_count": 190,
   "id": "9d52bd3d",
   "metadata": {},
   "outputs": [],
   "source": [
    "from scipy.optimize import minimize"
   ]
  },
  {
   "cell_type": "code",
   "execution_count": 75,
   "id": "3ef5ff76",
   "metadata": {},
   "outputs": [
    {
     "data": {
      "text/plain": [
       "0.55235326"
      ]
     },
     "execution_count": 75,
     "metadata": {},
     "output_type": "execute_result"
    }
   ],
   "source": [
    "cosine_similarities[0][0][0]"
   ]
  },
  {
   "cell_type": "code",
   "execution_count": 36,
   "id": "9764960f",
   "metadata": {},
   "outputs": [],
   "source": [
    "train_data.insert(12, \"cosine similarity\", cosine_similarities[])"
   ]
  },
  {
   "cell_type": "code",
   "execution_count": 134,
   "id": "cbe0ce39",
   "metadata": {},
   "outputs": [],
   "source": [
    "train_data_subset = train_data.sample(n=100,axis='rows')"
   ]
  },
  {
   "cell_type": "code",
   "execution_count": 135,
   "id": "949bd741",
   "metadata": {},
   "outputs": [],
   "source": [
    "train_data_subset = train_data_subset.reset_index()"
   ]
  },
  {
   "cell_type": "code",
   "execution_count": 260,
   "id": "99891ab7",
   "metadata": {},
   "outputs": [
    {
     "name": "stdout",
     "output_type": "stream",
     "text": [
      "839\n",
      "839\n",
      "839\n",
      "839\n",
      "839\n",
      "839\n",
      "807\n",
      "334\n",
      "334\n",
      "334\n",
      "334\n",
      "334\n",
      "334\n",
      "334\n",
      "334\n",
      "334\n"
     ]
    }
   ],
   "source": [
    "tp_max = 0\n",
    "tp_old = 0\n",
    "for x in range(-5,10):\n",
    "    #print(x)\n",
    "    tp = 0\n",
    "    for i in range (1173):\n",
    "        if train_data['cosine similarity'][i][0][0] > x and train_data['label'][i] == 0:\n",
    "            tp+=1\n",
    "        elif train_data['cosine similarity'][i][0][0] <= x and train_data['label'][i] == 1:\n",
    "            tp+=1\n",
    "    print(tp)\n",
    "    if tp>tp_max:\n",
    "        print(tp)\n",
    "        tp_max = tp\n",
    "        threshold = x\n",
    "    tp_old = tp\n",
    "        \n",
    "    "
   ]
  },
  {
   "cell_type": "code",
   "execution_count": 236,
   "id": "ed2a54cf",
   "metadata": {},
   "outputs": [
    {
     "data": {
      "text/plain": [
       "-5"
      ]
     },
     "execution_count": 236,
     "metadata": {},
     "output_type": "execute_result"
    }
   ],
   "source": [
    "threshold"
   ]
  },
  {
   "cell_type": "code",
   "execution_count": 243,
   "id": "6c141bcc",
   "metadata": {},
   "outputs": [
    {
     "data": {
      "text/plain": [
       "0.7152600170502984"
      ]
     },
     "execution_count": 243,
     "metadata": {},
     "output_type": "execute_result"
    }
   ],
   "source": [
    "tp_max/1173"
   ]
  },
  {
   "cell_type": "code",
   "execution_count": 253,
   "id": "d1d891fa",
   "metadata": {},
   "outputs": [],
   "source": [
    "from scipy.optimize import minimize_scalar\n",
    "\n",
    "def objective_function(x):\n",
    "    tp = 0\n",
    "    for i in range (1173):\n",
    "        if train_data['cosine similarity'][i][0][0] > x and train_data['label'][i] == 0:\n",
    "            tp+=1\n",
    "        if train_data['cosine similarity'][i][0][0] <= x and train_data['label'][i] == 1:\n",
    "            tp+=1\n",
    "    return 1173/tp"
   ]
  },
  {
   "cell_type": "code",
   "execution_count": 254,
   "id": "41a11296",
   "metadata": {},
   "outputs": [],
   "source": [
    "res = minimize_scalar(objective_function, method='bounded', bounds=(np.min(cosine_similarities), np.max(cosine_similarities)))"
   ]
  },
  {
   "cell_type": "code",
   "execution_count": 255,
   "id": "0acf66af",
   "metadata": {},
   "outputs": [
    {
     "data": {
      "text/plain": [
       "     fun: 1.399761336515513\n",
       " message: 'Solution found.'\n",
       "    nfev: 27\n",
       "  status: 0\n",
       " success: True\n",
       "       x: -0.5205666714988805"
      ]
     },
     "execution_count": 255,
     "metadata": {},
     "output_type": "execute_result"
    }
   ],
   "source": [
    "res"
   ]
  },
  {
   "cell_type": "code",
   "execution_count": 257,
   "id": "6e07a7f9",
   "metadata": {},
   "outputs": [
    {
     "data": {
      "text/plain": [
       "0.7144075021312873"
      ]
     },
     "execution_count": 257,
     "metadata": {},
     "output_type": "execute_result"
    }
   ],
   "source": [
    "1/res['fun']"
   ]
  },
  {
   "cell_type": "markdown",
   "id": "4d0ce0f5",
   "metadata": {},
   "source": [
    "The thres.hold values of cosine similarities can lie between -0.5 to 0 to obtain an accuracy of 71.44%"
   ]
  }
 ],
 "metadata": {
  "kernelspec": {
   "display_name": "Python 3 (ipykernel)",
   "language": "python",
   "name": "python3"
  },
  "language_info": {
   "codemirror_mode": {
    "name": "ipython",
    "version": 3
   },
   "file_extension": ".py",
   "mimetype": "text/x-python",
   "name": "python",
   "nbconvert_exporter": "python",
   "pygments_lexer": "ipython3",
   "version": "3.8.11"
  }
 },
 "nbformat": 4,
 "nbformat_minor": 5
}
